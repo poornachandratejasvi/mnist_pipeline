{
 "cells": [
  {
   "cell_type": "code",
   "execution_count": 1,
   "metadata": {},
   "outputs": [],
   "source": [
    "import numpy as np\n",
    "import tensorflow as tf\n",
    "import os\n",
    "from sklearn.metrics import classification_report\n",
    "from sklearn.metrics import f1_score\n",
    "import requests\n",
    "import tarfile\n",
    "import os.path"
   ]
  },
  {
   "cell_type": "code",
   "execution_count": 2,
   "metadata": {},
   "outputs": [],
   "source": [
    "model_path = os.environ.get(\"model_path\", \"/tmp/pipeline/model/\")\n",
    "etl_data_path = os.environ.get(\"etl_path\", \"/tmp/pipeline/etl/\")\n",
    "model_store = os.environ.get(\"model_store_path\", \"/tmp/pipeline/rdmodelstore/\")\n",
    "min_fscore = os.environ.get(\"min_f1_score\", \"0.90\")"
   ]
  },
  {
   "cell_type": "code",
   "execution_count": 67,
   "metadata": {
    "scrolled": true
   },
   "outputs": [
    {
     "name": "stdout",
     "output_type": "stream",
     "text": [
      "model location: /tmp/pipeline/model/\n",
      "list of models:  ['poorna_cnn_mnist.model', 'poorna_mnist.model']\n",
      "list of models:  ['result.json', 'poorna_cnn_mnist.model', 'poorna_mnist.model']\n"
     ]
    }
   ],
   "source": [
    "models=[]\n",
    "for root, dirs, files in os.walk(model_path):\n",
    "    print(\"model location:\",root)\n",
    "    print(\"list of models: \",dirs)\n",
    "    models=dirs\n",
    "    break"
   ]
  },
  {
   "cell_type": "code",
   "execution_count": 4,
   "metadata": {
    "scrolled": false
   },
   "outputs": [
    {
     "name": "stdout",
     "output_type": "stream",
     "text": [
      "\n",
      "#########  model name:  poorna_cnn_mnist.model #########\n",
      "\n",
      "Model: \"sequential\"\n",
      "_________________________________________________________________\n",
      "Layer (type)                 Output Shape              Param #   \n",
      "=================================================================\n",
      "conv2d (Conv2D)              (None, 26, 26, 32)        320       \n",
      "_________________________________________________________________\n",
      "max_pooling2d (MaxPooling2D) (None, 13, 13, 32)        0         \n",
      "_________________________________________________________________\n",
      "conv2d_1 (Conv2D)            (None, 11, 11, 64)        18496     \n",
      "_________________________________________________________________\n",
      "max_pooling2d_1 (MaxPooling2 (None, 5, 5, 64)          0         \n",
      "_________________________________________________________________\n",
      "flatten (Flatten)            (None, 1600)              0         \n",
      "_________________________________________________________________\n",
      "dropout (Dropout)            (None, 1600)              0         \n",
      "_________________________________________________________________\n",
      "dense (Dense)                (None, 10)                16010     \n",
      "=================================================================\n",
      "Total params: 34,826\n",
      "Trainable params: 34,826\n",
      "Non-trainable params: 0\n",
      "_________________________________________________________________\n",
      "None\n",
      "              precision    recall  f1-score   support\n",
      "\n",
      "           0       0.97      1.00      0.98       980\n",
      "           1       0.99      1.00      0.99      1135\n",
      "           2       0.98      0.98      0.98      1032\n",
      "           3       0.99      0.99      0.99      1010\n",
      "           4       0.98      0.99      0.99       982\n",
      "           5       0.99      0.98      0.99       892\n",
      "           6       1.00      0.98      0.99       958\n",
      "           7       0.97      0.99      0.98      1028\n",
      "           8       0.99      0.97      0.98       974\n",
      "           9       0.99      0.97      0.98      1009\n",
      "\n",
      "    accuracy                           0.98     10000\n",
      "   macro avg       0.99      0.98      0.98     10000\n",
      "weighted avg       0.98      0.98      0.98     10000\n",
      "\n",
      "model poorna_cnn_mnist.modelf1 score:  0.9846649669973104\n",
      "model poorna_cnn_mnist.model meets minimum eligible F1 score\n",
      "\n",
      "#########  model name:  poorna_mnist.model #########\n",
      "\n",
      "Model: \"mnist_without_CNN\"\n",
      "_________________________________________________________________\n",
      "Layer (type)                 Output Shape              Param #   \n",
      "=================================================================\n",
      "flatten_6 (Flatten)          (None, 784)               0         \n",
      "_________________________________________________________________\n",
      "dense_18 (Dense)             (None, 128)               100480    \n",
      "_________________________________________________________________\n",
      "dense_19 (Dense)             (None, 128)               16512     \n",
      "_________________________________________________________________\n",
      "dense_20 (Dense)             (None, 10)                1290      \n",
      "=================================================================\n",
      "Total params: 118,282\n",
      "Trainable params: 118,282\n",
      "Non-trainable params: 0\n",
      "_________________________________________________________________\n",
      "None\n",
      "              precision    recall  f1-score   support\n",
      "\n",
      "           0       0.94      0.98      0.96       980\n",
      "           1       0.98      0.98      0.98      1135\n",
      "           2       0.96      0.93      0.95      1032\n",
      "           3       0.90      0.94      0.92      1010\n",
      "           4       0.94      0.95      0.95       982\n",
      "           5       0.97      0.90      0.93       892\n",
      "           6       0.97      0.93      0.95       958\n",
      "           7       0.96      0.94      0.95      1028\n",
      "           8       0.89      0.95      0.92       974\n",
      "           9       0.94      0.93      0.94      1009\n",
      "\n",
      "    accuracy                           0.94     10000\n",
      "   macro avg       0.95      0.94      0.94     10000\n",
      "weighted avg       0.95      0.94      0.94     10000\n",
      "\n",
      "model poorna_mnist.modelf1 score:  0.9438805682262321\n",
      "model poorna_mnist.model meets minimum eligible F1 score\n",
      "selected model for deployment  poorna_cnn_mnist.model\n"
     ]
    }
   ],
   "source": [
    "accepcetd_model=\"\"\n",
    "greater_model_f1=0\n",
    "for mod in models:\n",
    "    print(\"\\n#########  model name: \",mod,\"#########\\n\")\n",
    "    model = tf.keras.models.load_model(model_path+\"/\"+mod)\n",
    "    print(model.summary())\n",
    "    with np.load(etl_data_path+\"testing_data.npz\") as data:\n",
    "        x_test = data['imgs']\n",
    "        y_test = data['labels']\n",
    "    x_test = np.expand_dims(x_test, -1)\n",
    "    \n",
    "    predictions = model.predict(x_test)\n",
    "    print(classification_report(y_test, np.argmax(predictions,axis=1)))\n",
    "    model_f1=f1_score(y_test, np.argmax(predictions,axis=1),average='macro')\n",
    "#     model_f1=round(model_f1, 2)\n",
    "    print(\"model \" +mod+ \"f1 score: \",model_f1)\n",
    "    if (model_f1 >= float(min_fscore)) :\n",
    "        print(\"model \" +mod+ \" meets minimum eligible F1 score\")\n",
    "        if model_f1 > greater_model_f1:\n",
    "            greater_model_f1= model_f1\n",
    "            accepcetd_model= mod\n",
    "    else:\n",
    "        print(\"no model is elligible\")\n",
    "print(\"selected model for deployment \",accepcetd_model)\n"
   ]
  },
  {
   "cell_type": "code",
   "execution_count": 6,
   "metadata": {},
   "outputs": [],
   "source": [
    "if not os.path.exists(model_store):\n",
    "    os.makedirs(model_store)"
   ]
  },
  {
   "cell_type": "code",
   "execution_count": 35,
   "metadata": {},
   "outputs": [],
   "source": [
    "\n",
    "output_filename=model_store+\"/modeltoupload.tar\"\n",
    "source_dir=model_path+\"/\"+accepcetd_model\n",
    "def make_tarfile(output_filename, source_dir):\n",
    "    with tarfile.open(output_filename, \"w:gz\") as tar:\n",
    "        tar.add(source_dir, arcname=\"model\")\n",
    "make_tarfile(output_filename,source_dir)\n",
    "\n"
   ]
  },
  {
   "cell_type": "code",
   "execution_count": null,
   "metadata": {},
   "outputs": [],
   "source": []
  },
  {
   "cell_type": "code",
   "execution_count": null,
   "metadata": {},
   "outputs": [],
   "source": []
  },
  {
   "cell_type": "code",
   "execution_count": 36,
   "metadata": {},
   "outputs": [],
   "source": [
    "payload = {}\n",
    "url=\"http://localhost:8082/uploadmodel\"\n",
    "files = [('files', open(output_filename,'rb'))]\n",
    "headers = {'Content-Transfer-Encoding': 'application/gzip'}\n",
    "response = requests.request(\"POST\", url, headers=headers, data = payload, files = files, verify = False)"
   ]
  },
  {
   "cell_type": "code",
   "execution_count": 37,
   "metadata": {},
   "outputs": [
    {
     "data": {
      "text/plain": [
       "'successfully uploaded the model to modelstore'"
      ]
     },
     "execution_count": 37,
     "metadata": {},
     "output_type": "execute_result"
    }
   ],
   "source": [
    "response.text"
   ]
  },
  {
   "cell_type": "code",
   "execution_count": null,
   "metadata": {},
   "outputs": [],
   "source": []
  },
  {
   "cell_type": "markdown",
   "metadata": {},
   "source": [
    "# for inferance"
   ]
  },
  {
   "cell_type": "code",
   "execution_count": 63,
   "metadata": {},
   "outputs": [],
   "source": [
    "payload = {}\n",
    "url=\"http://localhost:8082/predict\"\n",
    "files = [('files', open(\"5.png\",'rb'))]\n",
    "headers = {'Content-Transfer-Encoding': 'multipart/form-data'}\n",
    "response = requests.request(\"POST\", url, headers=headers, data = payload, files = files, verify = False)"
   ]
  },
  {
   "cell_type": "code",
   "execution_count": 64,
   "metadata": {},
   "outputs": [
    {
     "data": {
      "text/plain": [
       "<Response [200]>"
      ]
     },
     "execution_count": 64,
     "metadata": {},
     "output_type": "execute_result"
    }
   ],
   "source": [
    "response"
   ]
  },
  {
   "cell_type": "code",
   "execution_count": 65,
   "metadata": {},
   "outputs": [
    {
     "data": {
      "text/plain": [
       "'Predicted Number: 5'"
      ]
     },
     "execution_count": 65,
     "metadata": {},
     "output_type": "execute_result"
    }
   ],
   "source": [
    "response.text"
   ]
  },
  {
   "cell_type": "code",
   "execution_count": null,
   "metadata": {},
   "outputs": [],
   "source": []
  }
 ],
 "metadata": {
  "kernelspec": {
   "display_name": "Python 3",
   "language": "python",
   "name": "python3"
  },
  "language_info": {
   "codemirror_mode": {
    "name": "ipython",
    "version": 3
   },
   "file_extension": ".py",
   "mimetype": "text/x-python",
   "name": "python",
   "nbconvert_exporter": "python",
   "pygments_lexer": "ipython3",
   "version": "3.8.10"
  }
 },
 "nbformat": 4,
 "nbformat_minor": 4
}
