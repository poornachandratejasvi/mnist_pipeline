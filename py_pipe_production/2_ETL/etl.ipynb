{
 "cells": [
  {
   "cell_type": "code",
   "execution_count": 1,
   "metadata": {
    "execution": {
     "iopub.execute_input": "2021-06-16T15:08:35.556694Z",
     "iopub.status.busy": "2021-06-16T15:08:35.556143Z",
     "iopub.status.idle": "2021-06-16T15:08:37.009126Z",
     "shell.execute_reply": "2021-06-16T15:08:37.008503Z"
    },
    "id": "k6J3JzK5NxQ6"
   },
   "outputs": [],
   "source": [
    "import numpy as np\n",
    "import tensorflow as tf\n",
    "import os\n",
    "from PIL import Image"
   ]
  },
  {
   "cell_type": "code",
   "execution_count": 2,
   "metadata": {},
   "outputs": [],
   "source": [
    "output_path = os.environ.get(\"etl_path\", \"/tmp/production/etl/\")\n",
    "input_path = os.environ.get(\"sensor_img_path\", \"/tmp/production/sensor_image/\")"
   ]
  },
  {
   "cell_type": "code",
   "execution_count": 3,
   "metadata": {},
   "outputs": [],
   "source": [
    "if not os.path.exists(output_path):\n",
    "    os.makedirs(output_path)"
   ]
  },
  {
   "cell_type": "markdown",
   "metadata": {
    "id": "G0yWiN8-cpDb"
   },
   "source": [
    "# Load image"
   ]
  },
  {
   "cell_type": "code",
   "execution_count": 4,
   "metadata": {
    "execution": {
     "iopub.execute_input": "2021-06-16T15:08:37.014091Z",
     "iopub.status.busy": "2021-06-16T15:08:37.013500Z",
     "iopub.status.idle": "2021-06-16T15:08:37.274497Z",
     "shell.execute_reply": "2021-06-16T15:08:37.273911Z"
    },
    "id": "GLHNrFM6RWoM"
   },
   "outputs": [
    {
     "name": "stdout",
     "output_type": "stream",
     "text": [
      "(28, 28)\n"
     ]
    }
   ],
   "source": [
    "file=\"predict.png\"\n",
    "single_im = Image.open(input_path+file)\n",
    "single_img = np.array(single_im)\n",
    "print(single_img.shape)\n",
    "single_img = single_img.reshape(1,28,28,1)\n",
    "single_img = tf.keras.utils.normalize(single_img, axis=1)\n"
   ]
  },
  {
   "cell_type": "code",
   "execution_count": null,
   "metadata": {},
   "outputs": [],
   "source": []
  },
  {
   "cell_type": "code",
   "execution_count": 5,
   "metadata": {},
   "outputs": [
    {
     "name": "stdout",
     "output_type": "stream",
     "text": [
      "(1, 28, 28, 1)\n"
     ]
    }
   ],
   "source": [
    "print(single_img.shape)"
   ]
  },
  {
   "cell_type": "code",
   "execution_count": 6,
   "metadata": {},
   "outputs": [],
   "source": [
    "np.savez_compressed(output_path+\"to_predict.npz\", imgs=single_img)"
   ]
  },
  {
   "cell_type": "code",
   "execution_count": null,
   "metadata": {},
   "outputs": [],
   "source": []
  },
  {
   "cell_type": "code",
   "execution_count": null,
   "metadata": {},
   "outputs": [],
   "source": []
  }
 ],
 "metadata": {
  "colab": {
   "collapsed_sections": [],
   "name": "numpy.ipynb",
   "toc_visible": true
  },
  "kernelspec": {
   "display_name": "Python 3",
   "language": "python",
   "name": "python3"
  },
  "language_info": {
   "codemirror_mode": {
    "name": "ipython",
    "version": 3
   },
   "file_extension": ".py",
   "mimetype": "text/x-python",
   "name": "python",
   "nbconvert_exporter": "python",
   "pygments_lexer": "ipython3",
   "version": "3.8.10"
  }
 },
 "nbformat": 4,
 "nbformat_minor": 1
}
