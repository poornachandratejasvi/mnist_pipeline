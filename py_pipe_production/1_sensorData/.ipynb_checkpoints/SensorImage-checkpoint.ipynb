{
 "cells": [
  {
   "cell_type": "code",
   "execution_count": 31,
   "metadata": {
    "execution": {
     "iopub.execute_input": "2021-06-16T15:08:35.556694Z",
     "iopub.status.busy": "2021-06-16T15:08:35.556143Z",
     "iopub.status.idle": "2021-06-16T15:08:37.009126Z",
     "shell.execute_reply": "2021-06-16T15:08:37.008503Z"
    },
    "id": "k6J3JzK5NxQ6"
   },
   "outputs": [],
   "source": [
    "import numpy as np\n",
    "import tensorflow as tf\n",
    "import os"
   ]
  },
  {
   "cell_type": "code",
   "execution_count": 32,
   "metadata": {},
   "outputs": [],
   "source": [
    "output_path = os.environ.get(\"etl_path\", \"/tmp/production/etl/\")\n",
    "base_path = os.environ.get(\"saved_data_dir\", \"/tmp/production/data/mnist/\")"
   ]
  },
  {
   "cell_type": "code",
   "execution_count": 45,
   "metadata": {},
   "outputs": [],
   "source": [
    "if not os.path.exists(output_path):\n",
    "    os.makedirs(output_path)\n",
    "    \n",
    "if not os.path.exists(base_path):\n",
    "    os.makedirs(base_path)"
   ]
  },
  {
   "cell_type": "code",
   "execution_count": 46,
   "metadata": {},
   "outputs": [
    {
     "data": {
      "text/plain": [
       "'/tmp/production/data/mnist/mnist.npz'"
      ]
     },
     "execution_count": 46,
     "metadata": {},
     "output_type": "execute_result"
    }
   ],
   "source": [
    "DATA_URL = 'https://storage.googleapis.com/tensorflow/tf-keras-datasets/mnist.npz'\n",
    "tf.keras.utils.get_file(base_path+'mnist.npz', DATA_URL)"
   ]
  },
  {
   "cell_type": "markdown",
   "metadata": {
    "id": "G0yWiN8-cpDb"
   },
   "source": [
    "# Load from .npz file"
   ]
  },
  {
   "cell_type": "code",
   "execution_count": 47,
   "metadata": {
    "execution": {
     "iopub.execute_input": "2021-06-16T15:08:37.014091Z",
     "iopub.status.busy": "2021-06-16T15:08:37.013500Z",
     "iopub.status.idle": "2021-06-16T15:08:37.274497Z",
     "shell.execute_reply": "2021-06-16T15:08:37.273911Z"
    },
    "id": "GLHNrFM6RWoM"
   },
   "outputs": [],
   "source": [
    "with np.load(base_path+\"mnist.npz\") as data:\n",
    "    x_test = data['x_train'][59000:] #use 10k for production"
   ]
  },
  {
   "cell_type": "code",
   "execution_count": 48,
   "metadata": {},
   "outputs": [
    {
     "name": "stdout",
     "output_type": "stream",
     "text": [
      "436\n"
     ]
    }
   ],
   "source": [
    "len(x_test)\n",
    "from random import randrange\n",
    "number=randrange(len(x_test))\n",
    "print(number)"
   ]
  },
  {
   "cell_type": "code",
   "execution_count": 51,
   "metadata": {},
   "outputs": [
    {
     "data": {
      "image/png": "[encoded data removed]",
      "text/plain": [
       "<Figure size 432x288 with 1 Axes>"
      ]
     },
     "metadata": {
      "needs_background": "light"
     },
     "output_type": "display_data"
    }
   ],
   "source": [
    "# import matplotlib.pyplot as plt\n",
    "# plt.imshow(x_test[number],cmap=plt.cm.binary)\n",
    "# plt.show()"
   ]
  },
  {
   "cell_type": "code",
   "execution_count": 52,
   "metadata": {},
   "outputs": [],
   "source": [
    "from PIL import Image\n",
    "im = Image.fromarray(x_test[number])\n",
    "im.save(output_path+\"/predict.png\")"
   ]
  },
  {
   "cell_type": "code",
   "execution_count": null,
   "metadata": {},
   "outputs": [],
   "source": []
  }
 ],
 "metadata": {
  "colab": {
   "collapsed_sections": [],
   "name": "numpy.ipynb",
   "toc_visible": true
  },
  "kernelspec": {
   "display_name": "Python 3",
   "language": "python",
   "name": "python3"
  },
  "language_info": {
   "codemirror_mode": {
    "name": "ipython",
    "version": 3
   },
   "file_extension": ".py",
   "mimetype": "text/x-python",
   "name": "python",
   "nbconvert_exporter": "python",
   "pygments_lexer": "ipython3",
   "version": "3.8.10"
  }
 },
 "nbformat": 4,
 "nbformat_minor": 1
}
