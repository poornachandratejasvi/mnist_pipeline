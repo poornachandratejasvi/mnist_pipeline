{
 "cells": [
  {
   "cell_type": "code",
   "execution_count": 1,
   "metadata": {
    "id": "Cb4FkGfzv9k6"
   },
   "outputs": [],
   "source": [
    "import numpy as np\n",
    "from tensorflow import keras\n",
    "from tensorflow.keras import layers\n",
    "import os\n",
    "from tensorflow.keras.callbacks import ModelCheckpoint, EarlyStopping\n",
    "import json"
   ]
  },
  {
   "cell_type": "code",
   "execution_count": 2,
   "metadata": {},
   "outputs": [],
   "source": [
    "model_path = os.environ.get(\"model_path\", \"/tmp/pipeline/model/\")\n",
    "etl_data_path = os.environ.get(\"etl_path\", \"/tmp/pipeline/etl/\")\n",
    "epoch = int(os.environ.get(\"epochs\", \"3\"))\n",
    "batch = int(os.environ.get(\"batch_size\", \"10\"))\n",
    "learning_rate = float(os.environ.get(\"learning_rate\", \"0.01\"))\n",
    "modelAppend = os.environ.get(\"model_append\", \"False\")"
   ]
  },
  {
   "cell_type": "code",
   "execution_count": 3,
   "metadata": {},
   "outputs": [],
   "source": [
    "with np.load(etl_data_path+\"training_data.npz\") as data:\n",
    "    x_train = data['imgs']\n",
    "    y_train = data['labels']"
   ]
  },
  {
   "cell_type": "code",
   "execution_count": 4,
   "metadata": {
    "id": "AJIAbCK6v9k8"
   },
   "outputs": [
    {
     "name": "stdout",
     "output_type": "stream",
     "text": [
      "x_train shape: (59000, 28, 28, 1)\n",
      "59000 train samples\n"
     ]
    }
   ],
   "source": [
    "# Model / data parameters\n",
    "num_classes = 10\n",
    "input_shape = (28, 28, 1)\n",
    "\n",
    "# the data, split between train and test sets\n",
    "# (x_train, y_train), (x_test, y_test) = keras.datasets.mnist.load_data()\n",
    "\n",
    "# Scale images to the [0, 1] range\n",
    "# x_train = x_train.astype(\"float32\") / 255\n",
    "# x_test = x_test.astype(\"float32\") / 255\n",
    "# Make sure images have shape (28, 28, 1)\n",
    "x_train = np.expand_dims(x_train, -1)\n",
    "# x_test = np.expand_dims(x_test, -1)\n",
    "print(\"x_train shape:\", x_train.shape)\n",
    "print(x_train.shape[0], \"train samples\")\n",
    "# print(x_test.shape[0], \"test samples\")\n",
    "\n",
    "\n",
    "# convert class vectors to binary class matrices\n",
    "y_train = keras.utils.to_categorical(y_train, num_classes)\n",
    "# y_test = keras.utils.to_categorical(y_test, num_classes)"
   ]
  },
  {
   "cell_type": "markdown",
   "metadata": {
    "id": "pg-xy8mdv9k9"
   },
   "source": [
    "## Build the model"
   ]
  },
  {
   "cell_type": "code",
   "execution_count": 5,
   "metadata": {
    "id": "VH4czYRav9k9"
   },
   "outputs": [
    {
     "name": "stdout",
     "output_type": "stream",
     "text": [
      "Model: \"sequential\"\n",
      "_________________________________________________________________\n",
      "Layer (type)                 Output Shape              Param #   \n",
      "=================================================================\n",
      "conv2d (Conv2D)              (None, 26, 26, 32)        320       \n",
      "_________________________________________________________________\n",
      "max_pooling2d (MaxPooling2D) (None, 13, 13, 32)        0         \n",
      "_________________________________________________________________\n",
      "conv2d_1 (Conv2D)            (None, 11, 11, 64)        18496     \n",
      "_________________________________________________________________\n",
      "max_pooling2d_1 (MaxPooling2 (None, 5, 5, 64)          0         \n",
      "_________________________________________________________________\n",
      "flatten (Flatten)            (None, 1600)              0         \n",
      "_________________________________________________________________\n",
      "dropout (Dropout)            (None, 1600)              0         \n",
      "_________________________________________________________________\n",
      "dense (Dense)                (None, 10)                16010     \n",
      "=================================================================\n",
      "Total params: 34,826\n",
      "Trainable params: 34,826\n",
      "Non-trainable params: 0\n",
      "_________________________________________________________________\n"
     ]
    }
   ],
   "source": [
    "model = keras.Sequential(\n",
    "    [\n",
    "        keras.Input(shape=input_shape),\n",
    "        layers.Conv2D(32, kernel_size=(3, 3), activation=\"relu\"),\n",
    "        layers.MaxPooling2D(pool_size=(2, 2)),\n",
    "        layers.Conv2D(64, kernel_size=(3, 3), activation=\"relu\"),\n",
    "        layers.MaxPooling2D(pool_size=(2, 2)),\n",
    "        layers.Flatten(),\n",
    "        layers.Dropout(0.5),\n",
    "        layers.Dense(num_classes, activation=\"softmax\"),\n",
    "    ]\n",
    ")\n",
    "model.summary()"
   ]
  },
  {
   "cell_type": "code",
   "execution_count": 6,
   "metadata": {},
   "outputs": [],
   "source": [
    "model_file_path=model_path+\"/poorna_cnn_mnist.model\"\n",
    "if modelAppend.lower() == \"true\" and os.path.exists(model_file_path) == True:\n",
    "    print(\"going to use existing model\")\n",
    "    model = keras.models.load_model(model_file_path)\n",
    "    model.summary()"
   ]
  },
  {
   "cell_type": "markdown",
   "metadata": {
    "id": "185GWox8v9k_"
   },
   "source": [
    "## Train the model"
   ]
  },
  {
   "cell_type": "code",
   "execution_count": 7,
   "metadata": {
    "id": "lUT18sB-v9lA"
   },
   "outputs": [
    {
     "name": "stdout",
     "output_type": "stream",
     "text": [
      "Epoch 1/3\n",
      "5309/5310 [============================>.] - ETA: 0s - loss: 0.2174 - accuracy: 0.9329\n",
      "Epoch 00001: loss improved from inf to 0.21734, saving model to /tmp/pipeline/model/poorna_cnn_mnist.model\n",
      "WARNING:tensorflow:From /home/tejasvim/.local/lib/python3.8/site-packages/tensorflow/python/training/tracking/tracking.py:111: Model.state_updates (from tensorflow.python.keras.engine.training) is deprecated and will be removed in a future version.\n",
      "Instructions for updating:\n",
      "This property should not be used in TensorFlow 2.0, as updates are applied automatically.\n",
      "WARNING:tensorflow:From /home/tejasvim/.local/lib/python3.8/site-packages/tensorflow/python/training/tracking/tracking.py:111: Layer.updates (from tensorflow.python.keras.engine.base_layer) is deprecated and will be removed in a future version.\n",
      "Instructions for updating:\n",
      "This property should not be used in TensorFlow 2.0, as updates are applied automatically.\n",
      "INFO:tensorflow:Assets written to: /tmp/pipeline/model/poorna_cnn_mnist.model/assets\n",
      "5310/5310 [==============================] - 37s 7ms/step - loss: 0.2173 - accuracy: 0.9329 - val_loss: 0.0592 - val_accuracy: 0.9820\n",
      "Epoch 2/3\n",
      "5308/5310 [============================>.] - ETA: 0s - loss: 0.0928 - accuracy: 0.9716\n",
      "Epoch 00002: loss improved from 0.21734 to 0.09275, saving model to /tmp/pipeline/model/poorna_cnn_mnist.model\n",
      "INFO:tensorflow:Assets written to: /tmp/pipeline/model/poorna_cnn_mnist.model/assets\n",
      "5310/5310 [==============================] - 33s 6ms/step - loss: 0.0928 - accuracy: 0.9716 - val_loss: 0.0430 - val_accuracy: 0.9861\n",
      "Epoch 3/3\n",
      "5301/5310 [============================>.] - ETA: 0s - loss: 0.0735 - accuracy: 0.9773\n",
      "Epoch 00003: loss improved from 0.09275 to 0.07351, saving model to /tmp/pipeline/model/poorna_cnn_mnist.model\n",
      "INFO:tensorflow:Assets written to: /tmp/pipeline/model/poorna_cnn_mnist.model/assets\n",
      "5310/5310 [==============================] - 29s 5ms/step - loss: 0.0735 - accuracy: 0.9773 - val_loss: 0.0348 - val_accuracy: 0.9897\n"
     ]
    },
    {
     "data": {
      "text/plain": [
       "<tensorflow.python.keras.callbacks.History at 0x7f82ec302dc0>"
      ]
     },
     "execution_count": 7,
     "metadata": {},
     "output_type": "execute_result"
    }
   ],
   "source": [
    "batch_size = batch\n",
    "epochs = epoch\n",
    "opt = keras.optimizers.Adam(learning_rate=learning_rate)\n",
    "model.compile(optimizer=opt,  # Good default optimizer to start with\n",
    "              loss='sparse_categorical_crossentropy',  # how will we calculate our \"error.\" Neural network aims to minimize loss.\n",
    "              metrics=['accuracy'])  # what to track\n",
    "model.compile(loss=\"categorical_crossentropy\", optimizer=\"adam\", metrics=[\"accuracy\"])\n",
    "\n",
    "checkpoint = ModelCheckpoint(filepath=model_file_path,save_best_only=True,monitor='loss',verbose=1,mode='min')\n",
    "\n",
    "early_stop = EarlyStopping(monitor = \"loss\", patience = 10, verbose = 1)\n",
    "\n",
    "\n",
    "model.fit(x_train, y_train, batch_size=batch_size, epochs=epochs, shuffle=True,verbose=1,callbacks=[early_stop, checkpoint], validation_split=0.1)"
   ]
  },
  {
   "cell_type": "code",
   "execution_count": 8,
   "metadata": {},
   "outputs": [],
   "source": [
    "# model.save(model_file_path)"
   ]
  },
  {
   "cell_type": "code",
   "execution_count": null,
   "metadata": {},
   "outputs": [],
   "source": []
  },
  {
   "cell_type": "code",
   "execution_count": null,
   "metadata": {},
   "outputs": [],
   "source": []
  }
 ],
 "metadata": {
  "colab": {
   "collapsed_sections": [],
   "name": "mnist_convnet",
   "provenance": [],
   "toc_visible": true
  },
  "kernelspec": {
   "display_name": "Python 3",
   "language": "python",
   "name": "python3"
  },
  "language_info": {
   "codemirror_mode": {
    "name": "ipython",
    "version": 3
   },
   "file_extension": ".py",
   "mimetype": "text/x-python",
   "name": "python",
   "nbconvert_exporter": "python",
   "pygments_lexer": "ipython3",
   "version": "3.8.10"
  }
 },
 "nbformat": 4,
 "nbformat_minor": 1
}
