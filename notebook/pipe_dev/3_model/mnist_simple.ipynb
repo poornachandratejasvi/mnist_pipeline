{
 "cells": [
  {
   "cell_type": "code",
   "execution_count": 1,
   "metadata": {},
   "outputs": [],
   "source": [
    "import numpy as np\n",
    "import tensorflow as tf\n",
    "import os\n",
    "from tensorflow.keras.callbacks import ModelCheckpoint, EarlyStopping\n",
    "import json"
   ]
  },
  {
   "cell_type": "code",
   "execution_count": 2,
   "metadata": {},
   "outputs": [],
   "source": [
    "model_path = os.environ.get(\"model_path\", \"/tmp/pipeline/model/\")\n",
    "etl_data_path = os.environ.get(\"etl_path\", \"/tmp/pipeline/etl/\")\n",
    "epoch = int(os.environ.get(\"epochs\", \"3\"))\n",
    "batch = int(os.environ.get(\"batch_size\", \"10\"))\n",
    "learning_rate = float(os.environ.get(\"learning_rate\", \"0.01\"))\n",
    "modelAppend = os.environ.get(\"model_append\", \"False\")"
   ]
  },
  {
   "cell_type": "code",
   "execution_count": 3,
   "metadata": {},
   "outputs": [],
   "source": [
    "with np.load(etl_data_path+\"training_data.npz\") as data:\n",
    "    x_train = data['imgs']\n",
    "    y_train = data['labels']\n",
    "x_train = np.expand_dims(x_train, -1)"
   ]
  },
  {
   "cell_type": "code",
   "execution_count": 4,
   "metadata": {},
   "outputs": [],
   "source": [
    "model = tf.keras.models.Sequential(name=\"mnist_without_CNN\")  # a basic feed-forward model\n",
    "model.add(tf.keras.layers.Flatten())  # takes our 28x28 and makes it 1x784\n",
    "model.add(tf.keras.layers.Dense(128, activation=tf.nn.relu))  # a simple fully-connected layer, 128 units, relu activation\n",
    "model.add(tf.keras.layers.Dense(128, activation=tf.nn.relu))  # a simple fully-connected layer, 128 units, relu activation\n",
    "model.add(tf.keras.layers.Dense(10, activation=tf.nn.softmax))  # our output layer. 10 units for 10 classes. Softmax for probability distribution"
   ]
  },
  {
   "cell_type": "code",
   "execution_count": 5,
   "metadata": {},
   "outputs": [],
   "source": [
    "model_file_path=model_path+\"/poorna_mnist.model\"\n",
    "if modelAppend.lower() == \"true\" and os.path.exists(model_file_path) == True:\n",
    "    print(\"going to use existing model\")\n",
    "    model = tf.keras.models.load_model(model_file_path)"
   ]
  },
  {
   "cell_type": "code",
   "execution_count": 6,
   "metadata": {},
   "outputs": [],
   "source": [
    "opt = tf.keras.optimizers.Adam(learning_rate=learning_rate)\n",
    "model.compile(optimizer=opt,  # Good default optimizer to start with\n",
    "              loss='sparse_categorical_crossentropy',  # how will we calculate our \"error.\" Neural network aims to minimize loss.\n",
    "              metrics=['accuracy'])  # what to track\n",
    "checkpoint = ModelCheckpoint(filepath=model_file_path,save_best_only=True,monitor='val_loss',verbose=1,mode='min')\n",
    "\n",
    "early_stop = EarlyStopping(monitor = \"val_loss\", patience = 10, verbose = 1)"
   ]
  },
  {
   "cell_type": "code",
   "execution_count": 7,
   "metadata": {},
   "outputs": [
    {
     "name": "stdout",
     "output_type": "stream",
     "text": [
      "Epoch 1/3\n",
      "5310/5310 [==============================] - ETA: 0s - loss: 0.3330 - accuracy: 0.9082\n",
      "Epoch 00001: val_loss improved from inf to 0.17588, saving model to /tmp/pipeline/model/poorna_mnist.model\n",
      "WARNING:tensorflow:From /home/tejasvim/.local/lib/python3.8/site-packages/tensorflow/python/training/tracking/tracking.py:111: Model.state_updates (from tensorflow.python.keras.engine.training) is deprecated and will be removed in a future version.\n",
      "Instructions for updating:\n",
      "This property should not be used in TensorFlow 2.0, as updates are applied automatically.\n",
      "WARNING:tensorflow:From /home/tejasvim/.local/lib/python3.8/site-packages/tensorflow/python/training/tracking/tracking.py:111: Layer.updates (from tensorflow.python.keras.engine.base_layer) is deprecated and will be removed in a future version.\n",
      "Instructions for updating:\n",
      "This property should not be used in TensorFlow 2.0, as updates are applied automatically.\n",
      "INFO:tensorflow:Assets written to: /tmp/pipeline/model/poorna_mnist.model/assets\n",
      "5310/5310 [==============================] - 14s 3ms/step - loss: 0.3330 - accuracy: 0.9082 - val_loss: 0.1759 - val_accuracy: 0.9510\n",
      "Epoch 2/3\n",
      "5285/5310 [============================>.] - ETA: 0s - loss: 0.2353 - accuracy: 0.9401\n",
      "Epoch 00002: val_loss improved from 0.17588 to 0.15668, saving model to /tmp/pipeline/model/poorna_mnist.model\n",
      "INFO:tensorflow:Assets written to: /tmp/pipeline/model/poorna_mnist.model/assets\n",
      "5310/5310 [==============================] - 12s 2ms/step - loss: 0.2356 - accuracy: 0.9401 - val_loss: 0.1567 - val_accuracy: 0.9547\n",
      "Epoch 3/3\n",
      "5290/5310 [============================>.] - ETA: 0s - loss: 0.2021 - accuracy: 0.9502\n",
      "Epoch 00003: val_loss did not improve from 0.15668\n",
      "5310/5310 [==============================] - 13s 2ms/step - loss: 0.2018 - accuracy: 0.9502 - val_loss: 0.1946 - val_accuracy: 0.9508\n"
     ]
    },
    {
     "data": {
      "text/plain": [
       "<tensorflow.python.keras.callbacks.History at 0x7fc0c03ea3a0>"
      ]
     },
     "execution_count": 7,
     "metadata": {},
     "output_type": "execute_result"
    }
   ],
   "source": [
    "\n",
    "model.fit(x_train, y_train, epochs=epoch,batch_size=batch,shuffle=True,verbose=1,callbacks=[early_stop, checkpoint], validation_split=0.1)  # train the model\n"
   ]
  },
  {
   "cell_type": "code",
   "execution_count": 8,
   "metadata": {},
   "outputs": [
    {
     "name": "stdout",
     "output_type": "stream",
     "text": [
      "Model: \"mnist_without_CNN\"\n",
      "_________________________________________________________________\n",
      "Layer (type)                 Output Shape              Param #   \n",
      "=================================================================\n",
      "flatten (Flatten)            (None, 784)               0         \n",
      "_________________________________________________________________\n",
      "dense (Dense)                (None, 128)               100480    \n",
      "_________________________________________________________________\n",
      "dense_1 (Dense)              (None, 128)               16512     \n",
      "_________________________________________________________________\n",
      "dense_2 (Dense)              (None, 10)                1290      \n",
      "=================================================================\n",
      "Total params: 118,282\n",
      "Trainable params: 118,282\n",
      "Non-trainable params: 0\n",
      "_________________________________________________________________\n"
     ]
    }
   ],
   "source": [
    "model.summary()"
   ]
  },
  {
   "cell_type": "code",
   "execution_count": 9,
   "metadata": {},
   "outputs": [
    {
     "name": "stdout",
     "output_type": "stream",
     "text": [
      "INFO:tensorflow:Assets written to: /tmp/pipeline/model//poorna_mnist.model/assets\n"
     ]
    }
   ],
   "source": [
    "model.save(model_file_path)"
   ]
  },
  {
   "cell_type": "code",
   "execution_count": 10,
   "metadata": {},
   "outputs": [],
   "source": [
    "# resultDict={}\n",
    "\n",
    "# resultDict[\"model_type_CNN\"]=\"False\"\n",
    "\n",
    "# with open(model_path+'/result.json', 'w') as fp:\n",
    "#     json.dump(resultDict, fp)"
   ]
  },
  {
   "cell_type": "code",
   "execution_count": null,
   "metadata": {},
   "outputs": [],
   "source": []
  }
 ],
 "metadata": {
  "kernelspec": {
   "display_name": "Python 3",
   "language": "python",
   "name": "python3"
  },
  "language_info": {
   "codemirror_mode": {
    "name": "ipython",
    "version": 3
   },
   "file_extension": ".py",
   "mimetype": "text/x-python",
   "name": "python",
   "nbconvert_exporter": "python",
   "pygments_lexer": "ipython3",
   "version": "3.8.10"
  }
 },
 "nbformat": 4,
 "nbformat_minor": 4
}
